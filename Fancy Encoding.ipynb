{
 "cells": [
  {
   "cell_type": "markdown",
   "metadata": {},
   "source": [
    "## Cogs18 Final Project - Fancy Encoding\n",
    "#### Zhi Chong Chris Lin A14970682"
   ]
  },
  {
   "cell_type": "markdown",
   "metadata": {},
   "source": [
    "My project goal is to find new ways that we could use to encode messages. I started using ideas from A2 and brainstormed other encoding functions such as reversing the string and shifting each character. In my reverse_encode, I tried flipping the string to create the encoded message. In the next attempt, instead of shifting characters in the messagewith a standard key, I improved the encoder with two user-defined conditions, one for lower case letters and one for upper case letters. This way, the message would have more steps in decoding. In the end, I combined these two strategical encoding functions to one fancy_encoding function. This helps strengthening the difficulty of the encoded message. In my tests, I then attempted to print attempts to decode some message. This involved shifting key values to all the possible values. Some future improvements to this decode attempt could be made to messages containing characters other than letters, which is open to more investigation."
   ]
  },
  {
   "cell_type": "markdown",
   "metadata": {},
   "source": [
    "### Simple encoder and decoder (inherited from A2)"
   ]
  },
  {
   "cell_type": "code",
   "execution_count": 1,
   "metadata": {},
   "outputs": [],
   "source": [
    "def encode(message, key):\n",
    "    '''\n",
    "    Encoder that converts every character of the input message to another character\n",
    "    by adding the value of key to the unicode code print for each character.\n",
    "    \n",
    "    Example from A2:\n",
    "    >>> message = 'hello'\n",
    "    >>> key = 200\n",
    "    >>> encode(message, key)\n",
    "    'İĭĴĴķ'\n",
    "    \n",
    "    '''\n",
    "    encoded = ''\n",
    "    for i in message:\n",
    "        encoded += chr(ord(i) + key)\n",
    "    return encoded"
   ]
  },
  {
   "cell_type": "code",
   "execution_count": 2,
   "metadata": {},
   "outputs": [
    {
     "data": {
      "text/plain": [
       "'İĭĴĴķ'"
      ]
     },
     "execution_count": 2,
     "metadata": {},
     "output_type": "execute_result"
    }
   ],
   "source": [
    "encode('hello', 200)"
   ]
  },
  {
   "cell_type": "code",
   "execution_count": 3,
   "metadata": {},
   "outputs": [],
   "source": [
    ">>> message = 'hello'\n",
    ">>> key = 200\n",
    ">>> assert encode(message, key), 'İĭĴĴķ'"
   ]
  },
  {
   "cell_type": "code",
   "execution_count": 4,
   "metadata": {},
   "outputs": [],
   "source": [
    "def decode(message, key):\n",
    "    '''\n",
    "    Decoder that converts every character of input message by subtracting the key value from the unicode of another character another character\n",
    "    by adding the value of key to the unicode code print for each character.\n",
    "    '''\n",
    "    decoded = ''\n",
    "    for i in message:\n",
    "        decoded = decoded + chr(ord(i) - key)\n",
    "    return decoded"
   ]
  },
  {
   "cell_type": "code",
   "execution_count": 5,
   "metadata": {},
   "outputs": [
    {
     "data": {
      "text/plain": [
       "'hello'"
      ]
     },
     "execution_count": 5,
     "metadata": {},
     "output_type": "execute_result"
    }
   ],
   "source": [
    "decode('İĭĴĴķ', 200)"
   ]
  },
  {
   "cell_type": "markdown",
   "metadata": {},
   "source": [
    "### Attempts to brainstorm new functions"
   ]
  },
  {
   "cell_type": "code",
   "execution_count": 6,
   "metadata": {},
   "outputs": [],
   "source": [
    "def reverse_encode(message):\n",
    "    '''\n",
    "    Encoder that converts the message in reverse order.\n",
    "    \n",
    "    Parameters\n",
    "    ----------\n",
    "    message : string\n",
    "        text message to be encoded\n",
    "    \n",
    "    Returns\n",
    "    -------\n",
    "    output : string\n",
    "        reversed message\n",
    "        \n",
    "    Doctests\n",
    "    -------\n",
    "    >>> message = 'hello'\n",
    "    >>> reverse_encode(message)\n",
    "    'olleh'\n",
    "    \n",
    "    '''\n",
    "    \n",
    "    encoded = ''\n",
    "    \n",
    "    for i in range(len(message)-1, -1, -1):\n",
    "        encoded += message[i]\n",
    "    \n",
    "    return encoded"
   ]
  },
  {
   "cell_type": "code",
   "execution_count": 7,
   "metadata": {},
   "outputs": [
    {
     "data": {
      "text/plain": [
       "'olleh'"
      ]
     },
     "execution_count": 7,
     "metadata": {},
     "output_type": "execute_result"
    }
   ],
   "source": [
    "reverse_encode('hello')"
   ]
  },
  {
   "cell_type": "code",
   "execution_count": 8,
   "metadata": {},
   "outputs": [],
   "source": [
    "def reverse_decode(message):\n",
    "    '''\n",
    "    Decoder that reads the original message from its reversed order.\n",
    "    \n",
    "    Parameters\n",
    "    ----------\n",
    "    message : string\n",
    "        text message to be decoded\n",
    "    \n",
    "    Returns\n",
    "    -------\n",
    "    output : string\n",
    "        original message\n",
    "        \n",
    "    Doctests\n",
    "    -------\n",
    "    >>> message = 'hello'\n",
    "    >>> reverse_decode(reverse_encode(message))\n",
    "    'hello'\n",
    "    \n",
    "    '''\n",
    "    \n",
    "    decoded = ''\n",
    "    \n",
    "    for i in range(len(message)-1, -1, -1):\n",
    "        decoded += message[i]\n",
    "    \n",
    "    return decoded"
   ]
  },
  {
   "cell_type": "code",
   "execution_count": 9,
   "metadata": {},
   "outputs": [
    {
     "data": {
      "text/plain": [
       "'hello'"
      ]
     },
     "execution_count": 9,
     "metadata": {},
     "output_type": "execute_result"
    }
   ],
   "source": [
    "reverse_decode('olleh')"
   ]
  },
  {
   "cell_type": "code",
   "execution_count": 10,
   "metadata": {},
   "outputs": [],
   "source": [
    "def shift_encode(message, key):\n",
    "    '''\n",
    "    Encoder that shifts every character by user-defined key.\n",
    "    \n",
    "    Parameters\n",
    "    ----------\n",
    "    message : string\n",
    "        text message to be encoded\n",
    "    key : int\n",
    "        value each character is being shifted\n",
    "    \n",
    "    Returns\n",
    "    -------\n",
    "    output : string\n",
    "        encoded message\n",
    "        \n",
    "    Doctests\n",
    "    -------\n",
    "    >>> text = \"hello\"\n",
    "    >>> s = 4\n",
    "    >>> shift_encode(text, s)\n",
    "    'lipps'\n",
    "    \n",
    "    '''\n",
    "    \n",
    "    output = ''\n",
    "    \n",
    "    # Traverse each character in message\n",
    "    for i in range(len(message)):\n",
    "        char = message[i]\n",
    "        \n",
    "        # Encrypt uppercase characters\n",
    "        if (char.isupper()):\n",
    "            output += chr((ord(char) + key - 65) % 26 + 65)\n",
    "            \n",
    "        # Encrypt lowercase characters\n",
    "        else:\n",
    "            output += chr((ord(char) + key - 97) % 26 + 97)\n",
    "    \n",
    "    return output"
   ]
  },
  {
   "cell_type": "code",
   "execution_count": 11,
   "metadata": {},
   "outputs": [],
   "source": [
    "# check the above function\n",
    "text = \"CEASER CIPHER DEMO\"\n",
    "s = -2"
   ]
  },
  {
   "cell_type": "code",
   "execution_count": 12,
   "metadata": {},
   "outputs": [
    {
     "name": "stdout",
     "output_type": "stream",
     "text": [
      "Plain Text : CEASER CIPHER DEMO\n",
      "Shift pattern : -2\n",
      "Cipher: ACYQCPlAGNFCPlBCKM\n"
     ]
    }
   ],
   "source": [
    "print (\"Plain Text : \" + text)\n",
    "print (\"Shift pattern : \" + str(s))\n",
    "print (\"Cipher: \" + shift_encode(text,s))"
   ]
  },
  {
   "cell_type": "code",
   "execution_count": 13,
   "metadata": {},
   "outputs": [],
   "source": [
    "# check the above function\n",
    "text = \"hello\"\n",
    "s = 4"
   ]
  },
  {
   "cell_type": "code",
   "execution_count": 14,
   "metadata": {},
   "outputs": [
    {
     "name": "stdout",
     "output_type": "stream",
     "text": [
      "Plain Text : hello\n",
      "Shift pattern : 4\n",
      "Cipher: lipps\n"
     ]
    }
   ],
   "source": [
    "print (\"Plain Text : \" + text)\n",
    "print (\"Shift pattern : \" + str(s))\n",
    "print (\"Cipher: \" + shift_encode(text,s))"
   ]
  },
  {
   "cell_type": "code",
   "execution_count": 15,
   "metadata": {},
   "outputs": [],
   "source": [
    "from string import ascii_lowercase"
   ]
  },
  {
   "cell_type": "code",
   "execution_count": 16,
   "metadata": {},
   "outputs": [],
   "source": [
    "def decode_attempt(message, letters):\n",
    "    '''\n",
    "    Decoder that shifts every character by every \n",
    "    key back to figure out original message.\n",
    "    \n",
    "    Parameters\n",
    "    ----------\n",
    "    message : string\n",
    "        text message to be decoded\n",
    "    key : int\n",
    "        series of letters to decode message\n",
    "    \n",
    "    Returns\n",
    "    -------\n",
    "    output : string\n",
    "        original message\n",
    "        \n",
    "    Doctests\n",
    "    -------\n",
    "    >>> text = \"hello\"\n",
    "    >>> s = 4\n",
    "    >>> encoded = shift_encode(text, s)\n",
    "    >>> LETTERS\n",
    "    >>> decode_attempt(encoded, )\n",
    "    \n",
    "    '''\n",
    "    \n",
    "    for key in range(len(letters)):\n",
    "        translated = ''\n",
    "        for symbol in message:\n",
    "            if symbol in letters:\n",
    "                num = letters.find(symbol)\n",
    "                num = num - key\n",
    "                if num < 0:\n",
    "                    num = num + len(letters)\n",
    "                translated = translated + letters[num]\n",
    "            else:\n",
    "                translated = translated + symbol\n",
    "        print('Hacking key #%s: %s' % (key, translated))"
   ]
  },
  {
   "cell_type": "code",
   "execution_count": 17,
   "metadata": {},
   "outputs": [],
   "source": [
    "message = 'lipps' #encrypted message\n",
    "LETTERS = ''.join(str(v) for v in [i for i in ascii_lowercase])\n"
   ]
  },
  {
   "cell_type": "code",
   "execution_count": 18,
   "metadata": {},
   "outputs": [
    {
     "name": "stdout",
     "output_type": "stream",
     "text": [
      "Hacking key #0: lipps\n",
      "Hacking key #1: khoor\n",
      "Hacking key #2: jgnnq\n",
      "Hacking key #3: ifmmp\n",
      "Hacking key #4: hello\n",
      "Hacking key #5: gdkkn\n",
      "Hacking key #6: fcjjm\n",
      "Hacking key #7: ebiil\n",
      "Hacking key #8: dahhk\n",
      "Hacking key #9: czggj\n",
      "Hacking key #10: byffi\n",
      "Hacking key #11: axeeh\n",
      "Hacking key #12: zwddg\n",
      "Hacking key #13: yvccf\n",
      "Hacking key #14: xubbe\n",
      "Hacking key #15: wtaad\n",
      "Hacking key #16: vszzc\n",
      "Hacking key #17: uryyb\n",
      "Hacking key #18: tqxxa\n",
      "Hacking key #19: spwwz\n",
      "Hacking key #20: rovvy\n",
      "Hacking key #21: qnuux\n",
      "Hacking key #22: pmttw\n",
      "Hacking key #23: olssv\n",
      "Hacking key #24: nkrru\n",
      "Hacking key #25: mjqqt\n"
     ]
    }
   ],
   "source": [
    "decode_attempt('lipps', LETTERS)"
   ]
  },
  {
   "cell_type": "markdown",
   "metadata": {},
   "source": [
    "### Thanks for this wonderful quarter. Have a great winter break."
   ]
  }
 ],
 "metadata": {
  "kernelspec": {
   "display_name": "Python 3",
   "language": "python",
   "name": "python3"
  },
  "language_info": {
   "codemirror_mode": {
    "name": "ipython",
    "version": 3
   },
   "file_extension": ".py",
   "mimetype": "text/x-python",
   "name": "python",
   "nbconvert_exporter": "python",
   "pygments_lexer": "ipython3",
   "version": "3.7.3"
  }
 },
 "nbformat": 4,
 "nbformat_minor": 2
}
